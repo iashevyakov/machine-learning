{
 "cells": [
  {
   "cell_type": "code",
   "execution_count": 21,
   "metadata": {},
   "outputs": [],
   "source": [
    "import numpy as np, random, math\n",
    "from matplotlib import pyplot as plt"
   ]
  },
  {
   "cell_type": "code",
   "execution_count": 22,
   "metadata": {},
   "outputs": [],
   "source": [
    "l1 = np.array([[1,2],[3,4],[5,6],[8,3],[7,2],[8,8],[1,1],[5,1]])\n",
    "colors = np.array(['#377eb8','#ff7f00','#4daf4a','#800000','#ff0000', '#00ff00','#00FFFF', '#000080'])"
   ]
  },
  {
   "cell_type": "code",
   "execution_count": 44,
   "metadata": {},
   "outputs": [
    {
     "name": "stdout",
     "output_type": "stream",
     "text": [
      "Случайные 4 центра кластеров\n",
      "[[8. 8.]\n",
      " [5. 6.]\n",
      " [8. 3.]\n",
      " [7. 2.]]\n",
      "Метрика - euc_dist\n",
      "Принадлежность к центрам кластеров :  [1 1 1 2 3 0 3 3]\n",
      "Новые центры кластеров : \n",
      "[[8.        8.       ]\n",
      " [3.        4.       ]\n",
      " [8.        3.       ]\n",
      " [4.3333335 1.3333334]]\n",
      "Принадлежность к центрам кластеров :  [1 1 1 2 2 0 3 3]\n",
      "Новые центры кластеров : \n",
      "[[8.  8. ]\n",
      " [3.  4. ]\n",
      " [7.5 2.5]\n",
      " [3.  1. ]]\n",
      "Принадлежность к центрам кластеров :  [3 1 1 2 2 0 3 3]\n",
      "Новые центры кластеров : \n",
      "[[8.        8.       ]\n",
      " [4.        5.       ]\n",
      " [7.5       2.5      ]\n",
      " [2.3333333 1.3333334]]\n",
      "Принадлежность к центрам кластеров :  [3 1 1 2 2 0 3 3]\n",
      "Новые центры кластеров : \n",
      "[[8.        8.       ]\n",
      " [4.        5.       ]\n",
      " [7.5       2.5      ]\n",
      " [2.3333333 1.3333334]]\n"
     ]
    },
    {
     "data": {
      "image/png": "[encoded data removed]",
      "text/plain": [
       "<Figure size 432x288 with 1 Axes>"
      ]
     },
     "metadata": {
      "needs_background": "light"
     },
     "output_type": "display_data"
    },
    {
     "data": {
      "text/plain": [
       "1"
      ]
     },
     "execution_count": 44,
     "metadata": {},
     "output_type": "execute_result"
    }
   ],
   "source": [
    "class K_means():\n",
    "    def __init__(self,dataset,metric,n_clusters=3):\n",
    "        self.dataset = dataset\n",
    "        self.n_clusters = n_clusters\n",
    "        self.metric = metric\n",
    "        self.max_n_iter=10\n",
    "        self.tolerance = 0.01\n",
    "        self.fitted = False\n",
    "        self.labels = np.array([])\n",
    "        self.centroids = np.array([self.dataset[k] for k in random.sample(range(self.dataset.shape[0]),n_clusters)],dtype='f')\n",
    "        print(\"Случайные {} центра кластеров\".format(n_clusters), self.centroids, sep='\\n')\n",
    "        print(\"Метрика - {}\".format(self.metric))\n",
    "        \n",
    "    def get_dist(self, list1,list2):\n",
    "        if self.metric == 'euc_dist':\n",
    "            dist = math.sqrt(sum((i - j) ** 2 for i, j in zip(list1, list2)))\n",
    "        elif self.metric == 'euc_dist2':\n",
    "            dist = sum((i - j) ** 2 for i, j in zip(list1, list2))\n",
    "        elif self.metric =='city_block_dist': \n",
    "            dist = sum(math.fabs(i - j) for i,j in zip(list1,list2))\n",
    "        elif self.metric =='cheb_dist':\n",
    "            dist = max(math.fabs(i - j) for i,j in zip(list1,list2))\n",
    "\n",
    "        return dist\n",
    "\n",
    "    def destribute_data(self):\n",
    "        self.labels = np.array([])\n",
    "        for elem in self.dataset:\n",
    "            dist = [self.get_dist(elem, center) for center in self.centroids]\n",
    "            idx = dist.index(min(dist))\n",
    "            self.labels = np.append(list(self.labels),idx).astype(int)\n",
    "        print(\"Принадлежность к центрам кластеров : \", self.labels)\n",
    "    \n",
    "    def recalculate_centroids(self):\n",
    "        for i in range(self.n_clusters):\n",
    "            num = 0\n",
    "            temp = np.zeros(self.dataset[0].shape)\n",
    "            for k, label in enumerate(self.labels):\n",
    "                if label == i:\n",
    "                    temp = temp + self.dataset[k]\n",
    "                    num += 1\n",
    "            self.centroids[i] = temp/num\n",
    "        print(\"Новые центры кластеров : \", self.centroids, sep='\\n')\n",
    "            \n",
    "    def fit(self):\n",
    "        iter = 1\n",
    "        while iter < self.max_n_iter:\n",
    "            prev_centroids = np.copy(self.centroids)\n",
    "            self.destribute_data()\n",
    "            self.recalculate_centroids()\n",
    "            if max([self.get_dist(i,k) for i,k in zip(self.centroids, prev_centroids)]) < self.tolerance:\n",
    "                break\n",
    "            iter +=1\n",
    "        self.fitted = True\n",
    "        self.draw()\n",
    "        \n",
    "    def predict(self, data):\n",
    "        if self.fitted:\n",
    "            dist = [self.get_dist(data, center) for center in self.centroids]\n",
    "            return dist.index(min(dist))\n",
    "        \n",
    "    def draw(self):\n",
    "        if self.dataset.shape[1]==2 and self.n_clusters<10:\n",
    "          plt.figure()\n",
    "          plt.scatter(test.dataset[:,0], test.dataset[:,1], c=colors[self.labels])\n",
    "          plt.scatter(test.centroids[:,0], test.centroids[:,1], marker='x',color='black')\n",
    "          plt.show()  \n",
    "    \n",
    "            \n",
    "            \n",
    "metrics = ['euc_dist', 'euc_dist2', 'city_block_dist', 'cheb_dist']\n",
    "test = K_means(l1,metrics[0],4)\n",
    "test.fit()\n",
    "#метод draw() вызывается в методе fit()\n",
    "test.predict ([4,4])"
   ]
  },
  {
   "cell_type": "code",
   "execution_count": null,
   "metadata": {},
   "outputs": [],
   "source": []
  }
 ],
 "metadata": {
  "kernelspec": {
   "display_name": "Python 3",
   "language": "python",
   "name": "python3"
  },
  "language_info": {
   "codemirror_mode": {
    "name": "ipython",
    "version": 3
   },
   "file_extension": ".py",
   "mimetype": "text/x-python",
   "name": "python",
   "nbconvert_exporter": "python",
   "pygments_lexer": "ipython3",
   "version": "3.6.6"
  }
 },
 "nbformat": 4,
 "nbformat_minor": 2
}
